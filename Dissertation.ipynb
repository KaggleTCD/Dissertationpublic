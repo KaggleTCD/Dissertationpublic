{
 "cells": [
  {
   "cell_type": "code",
   "execution_count": 4,
   "metadata": {},
   "outputs": [
    {
     "name": "stdout",
     "output_type": "stream",
     "text": [
      "Hi\n"
     ]
    },
    {
     "name": "stderr",
     "output_type": "stream",
     "text": [
      "[nltk_data] Downloading package punkt to /home/jupyterlab/nltk_data...\n",
      "[nltk_data]   Unzipping tokenizers/punkt.zip.\n"
     ]
    },
    {
     "name": "stdout",
     "output_type": "stream",
     "text": [
      "['<', '?', 'xml', 'version=', \"''\", '1.0', \"''\", '?', '>', '<', 'TimeML', 'xmlns', ':', 'xsi=', \"''\", 'http', ':', '//www.w3.org/2001/XMLSchema-instance', \"''\", 'xsi', ':', 'noNamespaceSchemaLocation=', \"''\", 'http', ':', '//timeml.org/timeMLdocs/TimeML_1.2.1.xsd', \"''\", '>', 'WSJ891102-0026', '=', '891102', '891102-0026', '.', 'Marketing', 'Brief', '--', 'Heritage', 'Media', 'Corp.', ':', '@', 'Firm', 'to', 'Buy', 'Rest', 'of', 'Shares', '@', 'Of', 'POP', 'Radio', 'in', 'a', 'Swap', '<', 'TIMEX3', 'tid=', \"''\", 't25', \"''\", 'type=', \"''\", 'DATE', \"''\", 'value=', \"''\", '1989-11-02', \"''\", 'temporalFunction=', \"''\", 'false', \"''\", 'functionInDocument=', \"''\", 'PUBLICATION_TIME', \"''\", '>', '11/02/89', '<', '/TIMEX3', '>', 'WALL', 'STREET', 'JOURNAL', '(', 'J', ')', 'HTG', 'POPX', 'TENDER', 'OFFERS', ',', 'MERGERS', ',', 'ACQUISITIONS', '(', 'TNM', ')', 'Heritage', 'Media', 'Corp.', ',', 'New', 'York', ',', '<', 'EVENT', 'eid=', \"''\", 'e1', \"''\", 'class=', \"''\", 'REPORTING', \"''\", 'stem=', \"''\", 'say', \"''\", '>', 'said', '<', '/EVENT', '>', 'it', '<', 'EVENT', 'eid=', \"''\", 'e2', \"''\", 'class=', \"''\", 'I_ACTION', \"''\", 'stem=', \"''\", 'offer', \"''\", '>', 'offered', '<', '/EVENT', '>', 'to', '<', 'EVENT', 'eid=', \"''\", 'e3', \"''\", 'class=', \"''\", 'OCCURRENCE', \"''\", 'stem=', \"''\", 'buy', \"''\", '>', 'buy', '<', '/EVENT', '>', 'the', 'shares', 'of', 'POP', 'Radio', 'Corp.', 'it', 'does', \"n't\", 'already', 'own', 'in', 'a', 'stock', '<', 'EVENT', 'eid=', \"''\", 'e6', \"''\", 'class=', \"''\", 'OCCURRENCE', \"''\", 'stem=', \"''\", 'swap', \"''\", '>', 'swap', '<', '/EVENT', '>', '.', 'Heritage', ',', 'which', 'owns', '51', '%', 'of', 'POP', \"'s\", '3.6', 'million', 'shares', 'outstanding', ',', '<', 'EVENT', 'eid=', \"''\", 'e9', \"''\", 'class=', \"''\", 'REPORTING', \"''\", 'stem=', \"''\", 'say', \"''\", '>', 'said', '<', '/EVENT', '>', 'it', 'will', '<', 'EVENT', 'eid=', \"''\", 'e10', \"''\", 'class=', \"''\", 'OCCURRENCE', \"''\", 'stem=', \"''\", 'exchange', \"''\", '>', 'exchange', '<', '/EVENT', '>', 'one', 'share', 'of', 'a', 'new', 'preferred', 'stock', 'for', 'each', 'POP', 'common', 'share', 'it', 'does', \"n't\", 'already', 'own', '.', 'Depending', 'upon', 'how', 'many', 'warrants', 'and', 'options', 'are', '<', 'EVENT', 'eid=', \"''\", 'e14', \"''\", 'class=', \"''\", 'OCCURRENCE', \"''\", 'stem=', \"''\", 'exercise', \"''\", '>', 'exercised', '<', '/EVENT', '>', '<', 'SIGNAL', 'sid=', \"''\", 's28', \"''\", '>', 'prior', '<', '/SIGNAL', '>', 'to', '<', 'EVENT', 'eid=', \"''\", 'e29', \"''\", 'class=', \"''\", 'ASPECTUAL', \"''\", 'stem=', \"''\", 'completion', \"''\", '>', 'completion', '<', '/EVENT', '>', 'of', 'the', '<', 'EVENT', 'eid=', \"''\", 'e30', \"''\", 'class=', \"''\", 'OCCURRENCE', \"''\", 'stem=', \"''\", 'transaction', \"''\", '>', 'transaction', '<', '/EVENT', '>', ',', 'Heritage', 'would', '<', 'EVENT', 'eid=', \"''\", 'e15', \"''\", 'class=', \"''\", 'OCCURRENCE', \"''\", 'stem=', \"''\", 'issue', \"''\", '>', 'issue', '<', '/EVENT', '>', 'between', '1.8', 'million', 'and', '2.35', 'million', 'preferred', 'shares', ',', 'a', 'Heritage', 'spokesman', '<', 'EVENT', 'eid=', \"''\", 'e17', \"''\", 'class=', \"''\", 'REPORTING', \"''\", 'stem=', \"''\", 'estimate', \"''\", '>', 'estimated', '<', '/EVENT', '>', '.', 'In', 'national', 'over-the-counter', 'trading', '<', 'TIMEX3', 'tid=', \"''\", 't27', \"''\", 'type=', \"''\", 'DATE', \"''\", 'value=', \"''\", '1989-11-01', \"''\", 'temporalFunction=', \"''\", 'true', \"''\", 'functionInDocument=', \"''\", 'NONE', \"''\", 'anchorTimeID=', \"''\", 't25', \"''\", '>', 'yesterday', '<', '/TIMEX3', '>', ',', 'POP', '<', 'EVENT', 'eid=', \"''\", 'e18', \"''\", 'class=', \"''\", 'OCCURRENCE', \"''\", 'stem=', \"''\", 'plunge', \"''\", '>', 'plunged', '<', '/EVENT', '>', '$', '4', 'to', '$', '14.75', '.', 'The', 'preferred', 'stock', ',', 'which', 'would', 'have', 'a', 'dividend', 'rate', 'of', '$', '1.76', 'a', 'year', ',', 'would', 'be', 'convertible', 'into', 'Heritage', 'common', 'at', 'a', 'rate', 'of', 'four', 'common', 'shares', 'for', 'each', 'preferred', '.', 'New', 'York-based', 'POP', 'Radio', '<', 'EVENT', 'eid=', \"''\", 'e20', \"''\", 'class=', \"''\", 'OCCURRENCE', \"''\", 'stem=', \"''\", 'provide', \"''\", '>', 'provides', '<', '/EVENT', '>', ',', 'through', 'a', 'national', ',', 'in-store', 'network', ',', 'a', 'customized', 'music', ',', 'information', 'and', 'advertising', 'service', 'which', '<', 'EVENT', 'eid=', \"''\", 'e21', \"''\", 'class=', \"''\", 'OCCURRENCE', \"''\", 'stem=', \"''\", 'simulate', \"''\", '>', 'simulates', '<', '/EVENT', '>', 'live', 'radio', '.', 'Heritage', 'owns', 'and', '<', 'EVENT', 'eid=', \"''\", 'e32', \"''\", 'class=', \"''\", 'OCCURRENCE', \"''\", 'stem=', \"''\", 'operate', \"''\", '>', 'operates', '<', '/EVENT', '>', 'television', 'and', 'radio', 'stations', 'and', 'in-store', 'advertising', 'and', 'promotion', 'programs', '.', '<', 'MAKEINSTANCE', 'eventID=', \"''\", 'e2', \"''\", 'eiid=', \"''\", 'ei68', \"''\", 'tense=', \"''\", 'PAST', \"''\", 'aspect=', \"''\", 'NONE', \"''\", 'polarity=', \"''\", 'POS', \"''\", 'pos=', \"''\", 'VERB', \"''\", '/', '>', '<', 'MAKEINSTANCE', 'eventID=', \"''\", 'e20', \"''\", 'eiid=', \"''\", 'ei79', \"''\", 'tense=', \"''\", 'PRESENT', \"''\", 'aspect=', \"''\", 'NONE', \"''\", 'polarity=', \"''\", 'POS', \"''\", 'pos=', \"''\", 'VERB', \"''\", '/', '>', '<', 'MAKEINSTANCE', 'eventID=', \"''\", 'e9', \"''\", 'eiid=', \"''\", 'ei71', \"''\", 'tense=', \"''\", 'PAST', \"''\", 'aspect=', \"''\", 'NONE', \"''\", 'polarity=', \"''\", 'POS', \"''\", 'pos=', \"''\", 'VERB', \"''\", '/', '>', '<', 'MAKEINSTANCE', 'eventID=', \"''\", 'e15', \"''\", 'eiid=', \"''\", 'ei76', \"''\", 'tense=', \"''\", 'NONE', \"''\", 'aspect=', \"''\", 'NONE', \"''\", 'polarity=', \"''\", 'POS', \"''\", 'pos=', \"''\", 'VERB', \"''\", 'modality=', \"''\", 'would', \"''\", '/', '>', '<', 'MAKEINSTANCE', 'eventID=', \"''\", 'e17', \"''\", 'eiid=', \"''\", 'ei77', \"''\", 'tense=', \"''\", 'PAST', \"''\", 'aspect=', \"''\", 'NONE', \"''\", 'polarity=', \"''\", 'POS', \"''\", 'pos=', \"''\", 'VERB', \"''\", '/', '>', '<', 'MAKEINSTANCE', 'eventID=', \"''\", 'e14', \"''\", 'eiid=', \"''\", 'ei73', \"''\", 'tense=', \"''\", 'PRESENT', \"''\", 'aspect=', \"''\", 'NONE', \"''\", 'polarity=', \"''\", 'POS', \"''\", 'pos=', \"''\", 'VERB', \"''\", '/', '>', '<', 'MAKEINSTANCE', 'eventID=', \"''\", 'e3', \"''\", 'eiid=', \"''\", 'ei69', \"''\", 'tense=', \"''\", 'INFINITIVE', \"''\", 'aspect=', \"''\", 'NONE', \"''\", 'polarity=', \"''\", 'POS', \"''\", 'pos=', \"''\", 'VERB', \"''\", '/', '>', '<', 'MAKEINSTANCE', 'eventID=', \"''\", 'e6', \"''\", 'eiid=', \"''\", 'ei70', \"''\", 'tense=', \"''\", 'NONE', \"''\", 'aspect=', \"''\", 'NONE', \"''\", 'polarity=', \"''\", 'POS', \"''\", 'pos=', \"''\", 'NOUN', \"''\", '/', '>', '<', 'MAKEINSTANCE', 'eventID=', \"''\", 'e32', \"''\", 'eiid=', \"''\", 'ei81', \"''\", 'tense=', \"''\", 'PRESENT', \"''\", 'aspect=', \"''\", 'NONE', \"''\", 'polarity=', \"''\", 'POS', \"''\", 'pos=', \"''\", 'VERB', \"''\", '/', '>', '<', 'MAKEINSTANCE', 'eventID=', \"''\", 'e29', \"''\", 'eiid=', \"''\", 'ei74', \"''\", 'tense=', \"''\", 'NONE', \"''\", 'aspect=', \"''\", 'NONE', \"''\", 'polarity=', \"''\", 'POS', \"''\", 'pos=', \"''\", 'NOUN', \"''\", '/', '>', '<', 'MAKEINSTANCE', 'eventID=', \"''\", 'e21', \"''\", 'eiid=', \"''\", 'ei80', \"''\", 'tense=', \"''\", 'PRESENT', \"''\", 'aspect=', \"''\", 'NONE', \"''\", 'polarity=', \"''\", 'POS', \"''\", 'pos=', \"''\", 'VERB', \"''\", '/', '>', '<', 'MAKEINSTANCE', 'eventID=', \"''\", 'e10', \"''\", 'eiid=', \"''\", 'ei72', \"''\", 'tense=', \"''\", 'FUTURE', \"''\", 'aspect=', \"''\", 'NONE', \"''\", 'polarity=', \"''\", 'POS', \"''\", 'pos=', \"''\", 'VERB', \"''\", '/', '>', '<', 'MAKEINSTANCE', 'eventID=', \"''\", 'e1', \"''\", 'eiid=', \"''\", 'ei67', \"''\", 'tense=', \"''\", 'PAST', \"''\", 'aspect=', \"''\", 'NONE', \"''\", 'polarity=', \"''\", 'POS', \"''\", 'pos=', \"''\", 'VERB', \"''\", '/', '>', '<', 'MAKEINSTANCE', 'eventID=', \"''\", 'e18', \"''\", 'eiid=', \"''\", 'ei78', \"''\", 'tense=', \"''\", 'PAST', \"''\", 'aspect=', \"''\", 'NONE', \"''\", 'polarity=', \"''\", 'POS', \"''\", 'pos=', \"''\", 'VERB', \"''\", '/', '>', '<', 'MAKEINSTANCE', 'eventID=', \"''\", 'e30', \"''\", 'eiid=', \"''\", 'ei75', \"''\", 'tense=', \"''\", 'NONE', \"''\", 'aspect=', \"''\", 'NONE', \"''\", 'polarity=', \"''\", 'POS', \"''\", 'pos=', \"''\", 'NOUN', \"''\", '/', '>', '<', 'TLINK', 'lid=', \"''\", 'l16', \"''\", 'relType=', \"''\", 'IS_INCLUDED', \"''\", 'eventInstanceID=', \"''\", 'ei81', \"''\", 'relatedToTime=', \"''\", 't25', \"''\", '/', '>', '<', 'TLINK', 'lid=', \"''\", 'l15', \"''\", 'relType=', \"''\", 'IS_INCLUDED', \"''\", 'eventInstanceID=', \"''\", 'ei80', \"''\", 'relatedToTime=', \"''\", 't25', \"''\", '/', '>', '<', 'TLINK', 'lid=', \"''\", 'l14', \"''\", 'relType=', \"''\", 'IS_INCLUDED', \"''\", 'eventInstanceID=', \"''\", 'ei79', \"''\", 'relatedToTime=', \"''\", 't25', \"''\", '/', '>', '<', 'TLINK', 'lid=', \"''\", 'l13', \"''\", 'relType=', \"''\", 'AFTER', \"''\", 'eventInstanceID=', \"''\", 'ei76', \"''\", 'relatedToEventInstance=', \"''\", 'ei75', \"''\", '/', '>', '<', 'TLINK', 'lid=', \"''\", 'l12', \"''\", 'relType=', \"''\", 'IDENTITY', \"''\", 'eventInstanceID=', \"''\", 'ei75', \"''\", 'relatedToEventInstance=', \"''\", 'ei70', \"''\", '/', '>', '<', 'TLINK', 'lid=', \"''\", 'l11', \"''\", 'relType=', \"''\", 'IDENTITY', \"''\", 'eventInstanceID=', \"''\", 'ei77', \"''\", 'relatedToEventInstance=', \"''\", 'ei67', \"''\", '/', '>', '<', 'TLINK', 'lid=', \"''\", 'l10', \"''\", 'relType=', \"''\", 'IDENTITY', \"''\", 'eventInstanceID=', \"''\", 'ei71', \"''\", 'relatedToEventInstance=', \"''\", 'ei67', \"''\", '/', '>', '<', 'TLINK', 'lid=', \"''\", 'l9', \"''\", 'relType=', \"''\", 'BEFORE', \"''\", 'eventInstanceID=', \"''\", 'ei67', \"''\", 'relatedToTime=', \"''\", 't25', \"''\", '/', '>', '<', 'TLINK', 'lid=', \"''\", 'l1', \"''\", 'relType=', \"''\", 'IS_INCLUDED', \"''\", 'eventInstanceID=', \"''\", 'ei78', \"''\", 'relatedToTime=', \"''\", 't27', \"''\", '/', '>', '<', 'TLINK', 'lid=', \"''\", 'l2', \"''\", 'relType=', \"''\", 'BEFORE', \"''\", 'eventInstanceID=', \"''\", 'ei73', \"''\", 'relatedToEventInstance=', \"''\", 'ei74', \"''\", 'signalID=', \"''\", 's28', \"''\", '/', '>', '<', 'TLINK', 'lid=', \"''\", 'l3', \"''\", 'relType=', \"''\", 'IS_INCLUDED', \"''\", 'eventInstanceID=', \"''\", 'ei69', \"''\", 'relatedToEventInstance=', \"''\", 'ei70', \"''\", '/', '>', '<', 'SLINK', 'lid=', \"''\", 'l8', \"''\", 'relType=', \"''\", 'MODAL', \"''\", 'eventInstanceID=', \"''\", 'ei77', \"''\", 'subordinatedEventInstance=', \"''\", 'ei76', \"''\", '/', '>', '<', 'SLINK', 'lid=', \"''\", 'l4', \"''\", 'relType=', \"''\", 'EVIDENTIAL', \"''\", 'eventInstanceID=', \"''\", 'ei67', \"''\", 'subordinatedEventInstance=', \"''\", 'ei68', \"''\", '/', '>', '<', 'SLINK', 'lid=', \"''\", 'l5', \"''\", 'relType=', \"''\", 'MODAL', \"''\", 'eventInstanceID=', \"''\", 'ei68', \"''\", 'subordinatedEventInstance=', \"''\", 'ei69', \"''\", '/', '>', '<', 'SLINK', 'lid=', \"''\", 'l6', \"''\", 'relType=', \"''\", 'EVIDENTIAL', \"''\", 'eventInstanceID=', \"''\", 'ei71', \"''\", 'subordinatedEventInstance=', \"''\", 'ei72', \"''\", '/', '>', '<', 'ALINK', 'lid=', \"''\", 'l7', \"''\", 'relType=', \"''\", 'CULMINATES', \"''\", 'eventInstanceID=', \"''\", 'ei74', \"''\", 'relatedToEventInstance=', \"''\", 'ei75', \"''\", '/', '>', '<', '/TimeML', '>']\n",
      "---------AFTER tag-----------\n",
      "1\n",
      "---------BEFORE tag-----------\n",
      "2\n",
      "<class 'list'>\n"
     ]
    }
   ],
   "source": [
    "import nltk\n",
    "print(\"Hi\")\n",
    "nltk.download('punkt')\n",
    "from nltk.tokenize import word_tokenize\n",
    "tokens = []\n",
    "with open ('LDC2006T08.tml') as fin:\n",
    "    tokens = word_tokenize(fin.read())\n",
    "    print(tokens)\n",
    "    print(\"---------AFTER tag-----------\")\n",
    "    print(tokens.count(\"AFTER\"))\n",
    "    print(\"---------BEFORE tag-----------\")\n",
    "    print(tokens.count(\"BEFORE\"))\n",
    "    print(type(tokens))"
   ]
  },
  {
   "cell_type": "code",
   "execution_count": 3,
   "metadata": {},
   "outputs": [
    {
     "name": "stdout",
     "output_type": "stream",
     "text": [
      "Collecting nltk\n",
      "\u001b[?25l  Downloading https://files.pythonhosted.org/packages/92/75/ce35194d8e3022203cca0d2f896dbb88689f9b3fce8e9f9cff942913519d/nltk-3.5.zip (1.4MB)\n",
      "\u001b[K     |████████████████████████████████| 1.4MB 8.2MB/s eta 0:00:01\n",
      "\u001b[?25hCollecting click (from nltk)\n",
      "\u001b[?25l  Downloading https://files.pythonhosted.org/packages/d2/3d/fa76db83bf75c4f8d338c2fd15c8d33fdd7ad23a9b5e57eb6c5de26b430e/click-7.1.2-py2.py3-none-any.whl (82kB)\n",
      "\u001b[K     |████████████████████████████████| 92kB 24.6MB/s eta 0:00:01\n",
      "\u001b[?25hCollecting joblib (from nltk)\n",
      "\u001b[?25l  Downloading https://files.pythonhosted.org/packages/b8/a6/d1a816b89aa1e9e96bcb298eb1ee1854f21662ebc6d55ffa3d7b3b50122b/joblib-0.15.1-py3-none-any.whl (298kB)\n",
      "\u001b[K     |████████████████████████████████| 307kB 36.0MB/s eta 0:00:01\n",
      "\u001b[?25hCollecting regex (from nltk)\n",
      "\u001b[?25l  Downloading https://files.pythonhosted.org/packages/60/7c/0d46b10a87b3087e8e303fac923beb19ec839d7c5ea34971a12fafb22b52/regex-2020.5.14-cp36-cp36m-manylinux2010_x86_64.whl (675kB)\n",
      "\u001b[K     |████████████████████████████████| 686kB 27.9MB/s eta 0:00:01\n",
      "\u001b[?25hCollecting tqdm (from nltk)\n",
      "\u001b[?25l  Downloading https://files.pythonhosted.org/packages/c9/40/058b12e8ba10e35f89c9b1fdfc2d4c7f8c05947df2d5eb3c7b258019fda0/tqdm-4.46.0-py2.py3-none-any.whl (63kB)\n",
      "\u001b[K     |████████████████████████████████| 71kB 22.7MB/s eta 0:00:01\n",
      "\u001b[?25hBuilding wheels for collected packages: nltk\n",
      "  Building wheel for nltk (setup.py) ... \u001b[?25ldone\n",
      "\u001b[?25h  Stored in directory: /home/jupyterlab/.cache/pip/wheels/ae/8c/3f/b1fe0ba04555b08b57ab52ab7f86023639a526d8bc8d384306\n",
      "Successfully built nltk\n",
      "Installing collected packages: click, joblib, regex, tqdm, nltk\n",
      "Successfully installed click-7.1.2 joblib-0.15.1 nltk-3.5 regex-2020.5.14 tqdm-4.46.0\n",
      "Note: you may need to restart the kernel to use updated packages.\n"
     ]
    }
   ],
   "source": [
    "pip install nltk"
   ]
  },
  {
   "cell_type": "code",
   "execution_count": 5,
   "metadata": {},
   "outputs": [],
   "source": [
    "import xml.etree.ElementTree as ET"
   ]
  },
  {
   "cell_type": "code",
   "execution_count": 6,
   "metadata": {},
   "outputs": [],
   "source": [
    "mytree = ET.parse(\"LDC2006T08.tml\")"
   ]
  },
  {
   "cell_type": "code",
   "execution_count": 7,
   "metadata": {},
   "outputs": [],
   "source": [
    "myroot = mytree.getroot()"
   ]
  },
  {
   "cell_type": "code",
   "execution_count": 8,
   "metadata": {},
   "outputs": [
    {
     "name": "stdout",
     "output_type": "stream",
     "text": [
      "TLINK\n"
     ]
    }
   ],
   "source": [
    "print(myroot[34].tag)"
   ]
  },
  {
   "cell_type": "code",
   "execution_count": 9,
   "metadata": {},
   "outputs": [
    {
     "name": "stdout",
     "output_type": "stream",
     "text": [
      "True\n"
     ]
    }
   ],
   "source": [
    "print(myroot[34].tag=='TLINK')"
   ]
  },
  {
   "cell_type": "code",
   "execution_count": 10,
   "metadata": {},
   "outputs": [
    {
     "name": "stdout",
     "output_type": "stream",
     "text": [
      "{'lid': 'l15', 'relType': 'IS_INCLUDED', 'eventInstanceID': 'ei80', 'relatedToTime': 't25'}\n"
     ]
    }
   ],
   "source": [
    "print(myroot[34].attrib)"
   ]
  },
  {
   "cell_type": "code",
   "execution_count": 11,
   "metadata": {},
   "outputs": [
    {
     "data": {
      "text/plain": [
       "49"
      ]
     },
     "execution_count": 11,
     "metadata": {},
     "output_type": "execute_result"
    }
   ],
   "source": [
    "len(myroot)"
   ]
  },
  {
   "cell_type": "code",
   "execution_count": 12,
   "metadata": {},
   "outputs": [
    {
     "name": "stdout",
     "output_type": "stream",
     "text": [
      "<Element 'TIMEX3' at 0x7fd6ce0dd818>\n",
      "<Element 'EVENT' at 0x7fd6ce0ddef8>\n",
      "<Element 'EVENT' at 0x7fd6ce0ddf48>\n",
      "<Element 'EVENT' at 0x7fd6ce0ddf98>\n",
      "<Element 'EVENT' at 0x7fd6ce072048>\n",
      "<Element 'EVENT' at 0x7fd6ce072098>\n",
      "<Element 'EVENT' at 0x7fd6ce0720e8>\n",
      "<Element 'EVENT' at 0x7fd6ce072138>\n",
      "<Element 'SIGNAL' at 0x7fd6ce072188>\n",
      "<Element 'EVENT' at 0x7fd6ce0721d8>\n",
      "<Element 'EVENT' at 0x7fd6ce072228>\n",
      "<Element 'EVENT' at 0x7fd6ce072278>\n",
      "<Element 'EVENT' at 0x7fd6ce0722c8>\n",
      "<Element 'TIMEX3' at 0x7fd6ce072318>\n",
      "<Element 'EVENT' at 0x7fd6ce072368>\n",
      "<Element 'EVENT' at 0x7fd6ce072408>\n",
      "<Element 'EVENT' at 0x7fd6ce072458>\n",
      "<Element 'EVENT' at 0x7fd6ce0724a8>\n",
      "<Element 'MAKEINSTANCE' at 0x7fd6ce0724f8>\n",
      "<Element 'MAKEINSTANCE' at 0x7fd6ce072548>\n",
      "<Element 'MAKEINSTANCE' at 0x7fd6ce072598>\n",
      "<Element 'MAKEINSTANCE' at 0x7fd6ce0725e8>\n",
      "<Element 'MAKEINSTANCE' at 0x7fd6ce072638>\n",
      "<Element 'MAKEINSTANCE' at 0x7fd6ce072688>\n",
      "<Element 'MAKEINSTANCE' at 0x7fd6ce0726d8>\n",
      "<Element 'MAKEINSTANCE' at 0x7fd6ce072728>\n",
      "<Element 'MAKEINSTANCE' at 0x7fd6ce072778>\n",
      "<Element 'MAKEINSTANCE' at 0x7fd6ce0727c8>\n",
      "<Element 'MAKEINSTANCE' at 0x7fd6ce072818>\n",
      "<Element 'MAKEINSTANCE' at 0x7fd6ce072868>\n",
      "<Element 'MAKEINSTANCE' at 0x7fd6ce0728b8>\n",
      "<Element 'MAKEINSTANCE' at 0x7fd6ce072908>\n",
      "<Element 'MAKEINSTANCE' at 0x7fd6ce072958>\n",
      "<Element 'TLINK' at 0x7fd6ce0729a8>\n",
      "<Element 'TLINK' at 0x7fd6ce0729f8>\n",
      "<Element 'TLINK' at 0x7fd6ce072a48>\n",
      "<Element 'TLINK' at 0x7fd6ce072a98>\n",
      "<Element 'TLINK' at 0x7fd6ce072ae8>\n",
      "<Element 'TLINK' at 0x7fd6ce072b38>\n",
      "<Element 'TLINK' at 0x7fd6ce072b88>\n",
      "<Element 'TLINK' at 0x7fd6ce072bd8>\n",
      "<Element 'TLINK' at 0x7fd6ce072c28>\n",
      "<Element 'TLINK' at 0x7fd6ce072c78>\n",
      "<Element 'TLINK' at 0x7fd6ce072cc8>\n",
      "<Element 'SLINK' at 0x7fd6ce072d68>\n",
      "<Element 'SLINK' at 0x7fd6ce072db8>\n",
      "<Element 'SLINK' at 0x7fd6ce072e08>\n",
      "<Element 'SLINK' at 0x7fd6ce072e58>\n",
      "<Element 'ALINK' at 0x7fd6ce072ea8>\n"
     ]
    }
   ],
   "source": [
    "for x in range(49):\n",
    "    print(myroot[x])"
   ]
  },
  {
   "cell_type": "code",
   "execution_count": 13,
   "metadata": {},
   "outputs": [],
   "source": [
    "dictforTlink = {}\n",
    "for tags in range(len(myroot)):\n",
    "    if myroot[tags].tag == 'TLINK':\n",
    "        if myroot[tags].attrib['relType']=='BEFORE':\n",
    "            dictforTlink[myroot[tags].attrib['eventInstanceID']] = myroot[tags].attrib['relatedToTime'] if 'relatedToTime' in myroot[tags].attrib.keys() else myroot[tags].attrib['relatedToEventInstance']\n",
    "            \n",
    "            \n",
    "        "
   ]
  },
  {
   "cell_type": "code",
   "execution_count": 14,
   "metadata": {},
   "outputs": [
    {
     "data": {
      "text/plain": [
       "{'ei67': 't25', 'ei73': 'ei74'}"
      ]
     },
     "execution_count": 14,
     "metadata": {},
     "output_type": "execute_result"
    }
   ],
   "source": [
    "dictforTlink"
   ]
  },
  {
   "cell_type": "code",
   "execution_count": 15,
   "metadata": {},
   "outputs": [],
   "source": [
    "dictformakeinstance = {}"
   ]
  },
  {
   "cell_type": "code",
   "execution_count": 16,
   "metadata": {},
   "outputs": [],
   "source": [
    "for tags in range(len(myroot)):\n",
    "    if myroot[tags].tag == 'MAKEINSTANCE':\n",
    "            dictformakeinstance[myroot[tags].attrib['eiid']] = myroot[tags].attrib['eventID']\n",
    "            \n",
    "            \n",
    "        "
   ]
  },
  {
   "cell_type": "code",
   "execution_count": 17,
   "metadata": {},
   "outputs": [
    {
     "data": {
      "text/plain": [
       "{'ei68': 'e2',\n",
       " 'ei79': 'e20',\n",
       " 'ei71': 'e9',\n",
       " 'ei76': 'e15',\n",
       " 'ei77': 'e17',\n",
       " 'ei73': 'e14',\n",
       " 'ei69': 'e3',\n",
       " 'ei70': 'e6',\n",
       " 'ei81': 'e32',\n",
       " 'ei74': 'e29',\n",
       " 'ei80': 'e21',\n",
       " 'ei72': 'e10',\n",
       " 'ei67': 'e1',\n",
       " 'ei78': 'e18',\n",
       " 'ei75': 'e30'}"
      ]
     },
     "execution_count": 17,
     "metadata": {},
     "output_type": "execute_result"
    }
   ],
   "source": [
    "dictformakeinstance"
   ]
  },
  {
   "cell_type": "code",
   "execution_count": 18,
   "metadata": {},
   "outputs": [],
   "source": [
    "dictresolved = {}"
   ]
  },
  {
   "cell_type": "code",
   "execution_count": null,
   "metadata": {},
   "outputs": [],
   "source": []
  },
  {
   "cell_type": "code",
   "execution_count": 19,
   "metadata": {},
   "outputs": [],
   "source": [
    "for x in dictforTlink.keys():\n",
    "    value = dictforTlink[x]\n",
    "    dictresolved[dictformakeinstance[x]] = value if 't' in value else dictformakeinstance[value]"
   ]
  },
  {
   "cell_type": "code",
   "execution_count": 20,
   "metadata": {},
   "outputs": [
    {
     "data": {
      "text/plain": [
       "{'e1': 't25', 'e14': 'e29'}"
      ]
     },
     "execution_count": 20,
     "metadata": {},
     "output_type": "execute_result"
    }
   ],
   "source": [
    "dictresolved"
   ]
  },
  {
   "cell_type": "code",
   "execution_count": 29,
   "metadata": {},
   "outputs": [
    {
     "name": "stdout",
     "output_type": "stream",
     "text": [
      "Iconicity not followed for  e1  and  t25\n",
      "e1  has position 109  and  t25  has position  58\n",
      "Iconicity followed for  e14  and  e29\n",
      "e14  has position 282  and  e29  has position  313\n"
     ]
    }
   ],
   "source": [
    "for events in dictresolved.keys():\n",
    "    value = dictresolved[events]\n",
    "    if tokens.index(events) < tokens.index(value):\n",
    "        print(\"Iconicity followed for \",events,\" and \",value)\n",
    "        print(events,\" has position\",tokens.index(events),\" and \",value,\" has position \",tokens.index(value))\n",
    "    else:\n",
    "         print(\"Iconicity not followed for \",events,\" and \",value)\n",
    "         print(events,\" has position\",tokens.index(events),\" and \",value,\" has position \",tokens.index(value))"
   ]
  },
  {
   "cell_type": "code",
   "execution_count": null,
   "metadata": {},
   "outputs": [],
   "source": []
  },
  {
   "cell_type": "code",
   "execution_count": null,
   "metadata": {},
   "outputs": [],
   "source": []
  }
 ],
 "metadata": {
  "kernelspec": {
   "display_name": "Python",
   "language": "python",
   "name": "conda-env-python-py"
  },
  "language_info": {
   "codemirror_mode": {
    "name": "ipython",
    "version": 3
   },
   "file_extension": ".py",
   "mimetype": "text/x-python",
   "name": "python",
   "nbconvert_exporter": "python",
   "pygments_lexer": "ipython3",
   "version": "3.6.10"
  }
 },
 "nbformat": 4,
 "nbformat_minor": 4
}
