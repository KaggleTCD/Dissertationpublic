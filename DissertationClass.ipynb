{
 "cells": [
  {
   "cell_type": "code",
   "execution_count": 6,
   "metadata": {},
   "outputs": [
    {
     "name": "stdout",
     "output_type": "stream",
     "text": [
      "Hello main\n",
      "Hello\n",
      "---------AFTER tag-----------\n",
      "4\n",
      "---------BEFORE tag-----------\n",
      "9\n",
      "{'lid': 'l1', 'relType': 'BEFORE', 'eventInstanceID': 'ei377', 'relatedToEventInstance': 'ei378'}\n",
      "{'lid': 'l5', 'relType': 'BEFORE', 'timeID': 't86', 'relatedToTime': 't82'}\n",
      "{'lid': 'l6', 'relType': 'BEFORE', 'timeID': 't87', 'relatedToTime': 't82'}\n",
      "{'lid': 'l10', 'relType': 'BEFORE', 'eventInstanceID': 'ei387', 'relatedToEventInstance': 'ei386', 'signalID': 's13'}\n",
      "{'lid': 'l22', 'relType': 'BEFORE', 'eventInstanceID': 'ei405', 'relatedToTime': 't82'}\n",
      "{'lid': 'l27', 'relType': 'BEFORE', 'eventInstanceID': 'ei410', 'relatedToEventInstance': 'ei412'}\n",
      "{'lid': 'l32', 'relType': 'BEFORE', 'eventInstanceID': 'ei418', 'relatedToEventInstance': 'ei419'}\n",
      "{'lid': 'l53', 'relType': 'BEFORE', 'eventInstanceID': 'ei438', 'relatedToEventInstance': 'ei383'}\n",
      "{'lid': 'l54', 'relType': 'BEFORE', 'eventInstanceID': 'ei384', 'relatedToEventInstance': 'ei383'}\n",
      "Iconicity followed for  e3  and  e4\n",
      "e3  has position 226  and  e4  has position  272\n",
      "Iconicity not followed for  t86  and  t82\n",
      "t86  has position 451  and  t82  has position  37\n",
      "Iconicity not followed for  t87  and  t82\n",
      "t87  has position 507  and  t82  has position  37\n",
      "Iconicity not followed for  e14  and  e12\n",
      "e14  has position 767  and  e12  has position  750\n",
      "Iconicity not followed for  e39  and  t82\n",
      "e39  has position 1460  and  t82  has position  37\n",
      "Iconicity followed for  e44  and  e46\n",
      "e44  has position 1668  and  e46  has position  1701\n",
      "Iconicity followed for  e53  and  e54\n",
      "e53  has position 2003  and  e54  has position  2019\n",
      "Iconicity not followed for  e376  and  e153\n",
      "e376  has position 655  and  e153  has position  599\n",
      "Iconicity not followed for  e11  and  e153\n",
      "e11  has position 638  and  e153  has position  599\n"
     ]
    },
    {
     "name": "stderr",
     "output_type": "stream",
     "text": [
      "[nltk_data] Downloading package punkt to /home/jupyterlab/nltk_data...\n",
      "[nltk_data]   Package punkt is already up-to-date!\n"
     ]
    }
   ],
   "source": [
    "import nltk\n",
    "nltk.download('punkt')\n",
    "from nltk.tokenize import word_tokenize\n",
    "import xml.etree.ElementTree as ET\n",
    "tokens = []\n",
    "class Iconicity:\n",
    "    def checkIconicity(self,filename,temporalElement):\n",
    "        print(\"Hello\")\n",
    "        with open (filename) as fin:\n",
    "          tokens = word_tokenize(fin.read())\n",
    "          #print(tokens)\n",
    "          print(\"---------AFTER tag-----------\")\n",
    "          print(tokens.count(\"AFTER\"))\n",
    "          print(\"---------BEFORE tag-----------\")\n",
    "          print(tokens.count(\"BEFORE\"))\n",
    "        mytree = ET.parse(filename)\n",
    "        myroot = mytree.getroot()\n",
    "        dictforTlink = {}\n",
    "        for tags in range(len(myroot)):\n",
    "            if myroot[tags].tag == 'TLINK':\n",
    "                if myroot[tags].attrib['relType']==temporalElement:\n",
    "                    print(myroot[tags].attrib)\n",
    "                    dictforTlink[myroot[tags].attrib['eventInstanceID'] if 'eventInstanceID' in myroot[tags].attrib.keys() else myroot[tags].attrib['timeID']] = myroot[tags].attrib['relatedToTime'] if 'relatedToTime' in myroot[tags].attrib.keys() else myroot[tags].attrib['relatedToEventInstance']\n",
    "        dictforTlink\n",
    "        dictformakeinstance = {}\n",
    "        for tags in range(len(myroot)):\n",
    "            if myroot[tags].tag == 'MAKEINSTANCE':\n",
    "                dictformakeinstance[myroot[tags].attrib['eiid']] = myroot[tags].attrib['eventID']\n",
    "        dictformakeinstance\n",
    "        dictresolved = {}\n",
    "        for x in dictforTlink.keys():\n",
    "            value = dictforTlink[x]\n",
    "            dictresolved[x if 't' in x else dictformakeinstance[x]] = value if 't' in value else dictformakeinstance[value]\n",
    "            \n",
    "        dictresolved\n",
    "        for events in dictresolved.keys():\n",
    "            value = dictresolved[events]\n",
    "            if tokens.index(events) < tokens.index(value):\n",
    "                print(\"Iconicity followed for \",events,\" and \",value)\n",
    "                print(events,\" has position\",tokens.index(events),\" and \",value,\" has position \",tokens.index(value))\n",
    "            else:\n",
    "                 print(\"Iconicity not followed for \",events,\" and \",value)\n",
    "                 print(events,\" has position\",tokens.index(events),\" and \",value,\" has position \",tokens.index(value))\n",
    "    def main():\n",
    "      i = Iconicity()\n",
    "      print(\"Hello main\")\n",
    "      i.checkIconicity(\"ABC.tml\",\"BEFORE\")\n",
    "      #i.checkIconicity(\"ABC.tml\",\"AFTER\")\n",
    "    if __name__ == \"__main__\":\n",
    "      main() "
   ]
  },
  {
   "cell_type": "code",
   "execution_count": null,
   "metadata": {},
   "outputs": [],
   "source": []
  }
 ],
 "metadata": {
  "kernelspec": {
   "display_name": "Python",
   "language": "python",
   "name": "conda-env-python-py"
  },
  "language_info": {
   "codemirror_mode": {
    "name": "ipython",
    "version": 3
   },
   "file_extension": ".py",
   "mimetype": "text/x-python",
   "name": "python",
   "nbconvert_exporter": "python",
   "pygments_lexer": "ipython3",
   "version": "3.6.10"
  }
 },
 "nbformat": 4,
 "nbformat_minor": 4
}
